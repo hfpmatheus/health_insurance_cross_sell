{
 "cells": [
  {
   "cell_type": "markdown",
   "id": "b6e8c4ec",
   "metadata": {},
   "source": [
    "# 0.0. IMPORTS"
   ]
  },
  {
   "cell_type": "code",
   "execution_count": 45,
   "id": "e3bd2ad0",
   "metadata": {
    "ExecuteTime": {
     "end_time": "2022-02-16T17:06:59.617763Z",
     "start_time": "2022-02-16T17:06:56.016929Z"
    }
   },
   "outputs": [],
   "source": [
    "import sys\n",
    "import psycopg2\n",
    "import pandas  as pd\n",
    "import numpy   as np\n",
    "import seaborn as sns"
   ]
  },
  {
   "cell_type": "markdown",
   "id": "8d0075ed",
   "metadata": {},
   "source": [
    "## 0.1. Aux Functions"
   ]
  },
  {
   "cell_type": "code",
   "execution_count": null,
   "id": "d2fae6ff",
   "metadata": {},
   "outputs": [],
   "source": []
  },
  {
   "cell_type": "markdown",
   "id": "339761ad",
   "metadata": {},
   "source": [
    "## 0.2. Data collection"
   ]
  },
  {
   "cell_type": "code",
   "execution_count": 3,
   "id": "5701d690",
   "metadata": {
    "ExecuteTime": {
     "end_time": "2022-02-16T11:50:44.535996Z",
     "start_time": "2022-02-16T11:50:44.522911Z"
    }
   },
   "outputs": [],
   "source": [
    "# connection = psycopg2.connect( user = 'member',\n",
    "#                                password = 'cdspa',\n",
    "#                                host = 'comunidade-ds-postgres.c50pcakiuwi3.us-east-1.rds.amazonaws.com',\n",
    "#                                port = '5432',\n",
    "#                                database = 'comunidadedsdb' )\n",
    "\n",
    "# cursor = connection.cursor()\n",
    "\n",
    "# query = \"\"\" SELECT *\n",
    "#             FROM pa004.users\n",
    "#             LEFT JOIN pa004.insurance on ( users.id = insurance.id )\n",
    "#             LEFT JOIN pa004.vehicle on ( users.id = vehicle.id ) \"\"\"\n",
    "\n",
    "# cursor.execute( query )\n",
    "\n",
    "# table = cursor.fetchall()\n",
    "\n",
    "# outputquery = 'copy ({0}) to stdout with csv header'.format( query )\n",
    "\n",
    "# with open( 'dataset.csv', 'w' ) as f:\n",
    "#     cursor.copy_expert( outputquery, f )\n",
    "\n",
    "# cursor.close()\n",
    "# connection.close()"
   ]
  },
  {
   "cell_type": "code",
   "execution_count": 4,
   "id": "b35a2edb",
   "metadata": {
    "ExecuteTime": {
     "end_time": "2022-02-16T11:50:45.250168Z",
     "start_time": "2022-02-16T11:50:44.537899Z"
    }
   },
   "outputs": [],
   "source": [
    "df_raw = pd.read_csv( 'train_dataset.csv' )\n",
    "df_raw = df_raw.drop( df_raw.columns[[ 5, 10 ]], axis=1 )"
   ]
  },
  {
   "cell_type": "markdown",
   "id": "52f9620a",
   "metadata": {
    "heading_collapsed": true
   },
   "source": [
    "# 1.0. DATA DESCRIPTION"
   ]
  },
  {
   "cell_type": "code",
   "execution_count": 5,
   "id": "66dac218",
   "metadata": {
    "ExecuteTime": {
     "end_time": "2022-02-16T11:50:45.281089Z",
     "start_time": "2022-02-16T11:50:45.253046Z"
    },
    "hidden": true
   },
   "outputs": [],
   "source": [
    "df1 = df_raw.copy()"
   ]
  },
  {
   "cell_type": "markdown",
   "id": "7529d411",
   "metadata": {
    "heading_collapsed": true,
    "hidden": true
   },
   "source": [
    "## Data Dimensions"
   ]
  },
  {
   "cell_type": "code",
   "execution_count": 9,
   "id": "baa46bf1",
   "metadata": {
    "ExecuteTime": {
     "end_time": "2022-02-16T11:53:31.096765Z",
     "start_time": "2022-02-16T11:53:31.041711Z"
    },
    "hidden": true
   },
   "outputs": [
    {
     "name": "stdout",
     "output_type": "stream",
     "text": [
      "Number of rows: 381109\n",
      "Number of columns: 12\n"
     ]
    }
   ],
   "source": [
    "print( 'Number of rows: {}'.format( df1.shape[0] ) )\n",
    "print( 'Number of columns: {}'.format( df1.shape[1] ) )"
   ]
  },
  {
   "cell_type": "markdown",
   "id": "6592c282",
   "metadata": {
    "heading_collapsed": true,
    "hidden": true
   },
   "source": [
    "## Data types"
   ]
  },
  {
   "cell_type": "code",
   "execution_count": 10,
   "id": "b60c354c",
   "metadata": {
    "ExecuteTime": {
     "end_time": "2022-02-16T11:53:45.814218Z",
     "start_time": "2022-02-16T11:53:45.775183Z"
    },
    "hidden": true
   },
   "outputs": [
    {
     "data": {
      "text/plain": [
       "id                       int64\n",
       "gender                  object\n",
       "age                      int64\n",
       "region_code              int64\n",
       "policy_sales_channel     int64\n",
       "previously_insured       int64\n",
       "annual_premium           int64\n",
       "vintage                  int64\n",
       "response                 int64\n",
       "driving_license          int64\n",
       "vehicle_age             object\n",
       "vehicle_damage          object\n",
       "dtype: object"
      ]
     },
     "execution_count": 10,
     "metadata": {},
     "output_type": "execute_result"
    }
   ],
   "source": [
    "df1.dtypes"
   ]
  },
  {
   "cell_type": "markdown",
   "id": "433ad77d",
   "metadata": {
    "heading_collapsed": true,
    "hidden": true
   },
   "source": [
    "## NA check"
   ]
  },
  {
   "cell_type": "code",
   "execution_count": 11,
   "id": "a91574a5",
   "metadata": {
    "ExecuteTime": {
     "end_time": "2022-02-16T11:55:10.817400Z",
     "start_time": "2022-02-16T11:55:10.525282Z"
    },
    "hidden": true
   },
   "outputs": [
    {
     "data": {
      "text/plain": [
       "id                      0\n",
       "gender                  0\n",
       "age                     0\n",
       "region_code             0\n",
       "policy_sales_channel    0\n",
       "previously_insured      0\n",
       "annual_premium          0\n",
       "vintage                 0\n",
       "response                0\n",
       "driving_license         0\n",
       "vehicle_age             0\n",
       "vehicle_damage          0\n",
       "dtype: int64"
      ]
     },
     "execution_count": 11,
     "metadata": {},
     "output_type": "execute_result"
    }
   ],
   "source": [
    "df1.isna().sum()"
   ]
  },
  {
   "cell_type": "markdown",
   "id": "47212321",
   "metadata": {
    "heading_collapsed": true,
    "hidden": true
   },
   "source": [
    "## Descriptive Statistics"
   ]
  },
  {
   "cell_type": "code",
   "execution_count": 51,
   "id": "b8a33dfb",
   "metadata": {
    "ExecuteTime": {
     "end_time": "2022-02-16T17:11:10.308237Z",
     "start_time": "2022-02-16T17:11:10.298263Z"
    },
    "hidden": true
   },
   "outputs": [],
   "source": [
    "df_num = df1.select_dtypes( include=[ 'int64'] )"
   ]
  },
  {
   "cell_type": "markdown",
   "id": "18327534",
   "metadata": {
    "ExecuteTime": {
     "end_time": "2022-02-16T11:56:15.520390Z",
     "start_time": "2022-02-16T11:56:15.306856Z"
    },
    "hidden": true
   },
   "source": [
    "### Numerical attributes"
   ]
  },
  {
   "cell_type": "code",
   "execution_count": 52,
   "id": "a40dfb53",
   "metadata": {
    "ExecuteTime": {
     "end_time": "2022-02-16T17:11:12.602605Z",
     "start_time": "2022-02-16T17:11:12.392994Z"
    },
    "hidden": true
   },
   "outputs": [
    {
     "data": {
      "text/html": [
       "<div>\n",
       "<style scoped>\n",
       "    .dataframe tbody tr th:only-of-type {\n",
       "        vertical-align: middle;\n",
       "    }\n",
       "\n",
       "    .dataframe tbody tr th {\n",
       "        vertical-align: top;\n",
       "    }\n",
       "\n",
       "    .dataframe thead th {\n",
       "        text-align: right;\n",
       "    }\n",
       "</style>\n",
       "<table border=\"1\" class=\"dataframe\">\n",
       "  <thead>\n",
       "    <tr style=\"text-align: right;\">\n",
       "      <th></th>\n",
       "      <th>min</th>\n",
       "      <th>max</th>\n",
       "      <th>range</th>\n",
       "      <th>mean</th>\n",
       "      <th>median</th>\n",
       "      <th>std</th>\n",
       "      <th>skewness</th>\n",
       "      <th>kurtosis</th>\n",
       "    </tr>\n",
       "  </thead>\n",
       "  <tbody>\n",
       "    <tr>\n",
       "      <th>id</th>\n",
       "      <td>1.000</td>\n",
       "      <td>381109.000</td>\n",
       "      <td>381108.000</td>\n",
       "      <td>190555.000</td>\n",
       "      <td>190555.000</td>\n",
       "      <td>110016.692</td>\n",
       "      <td>-0.000</td>\n",
       "      <td>-1.200</td>\n",
       "    </tr>\n",
       "    <tr>\n",
       "      <th>age</th>\n",
       "      <td>20.000</td>\n",
       "      <td>85.000</td>\n",
       "      <td>65.000</td>\n",
       "      <td>38.823</td>\n",
       "      <td>36.000</td>\n",
       "      <td>15.512</td>\n",
       "      <td>0.673</td>\n",
       "      <td>-0.566</td>\n",
       "    </tr>\n",
       "    <tr>\n",
       "      <th>region_code</th>\n",
       "      <td>0.000</td>\n",
       "      <td>52.000</td>\n",
       "      <td>52.000</td>\n",
       "      <td>26.389</td>\n",
       "      <td>28.000</td>\n",
       "      <td>13.230</td>\n",
       "      <td>-0.115</td>\n",
       "      <td>-0.868</td>\n",
       "    </tr>\n",
       "    <tr>\n",
       "      <th>policy_sales_channel</th>\n",
       "      <td>1.000</td>\n",
       "      <td>163.000</td>\n",
       "      <td>162.000</td>\n",
       "      <td>112.034</td>\n",
       "      <td>133.000</td>\n",
       "      <td>54.204</td>\n",
       "      <td>-0.900</td>\n",
       "      <td>-0.971</td>\n",
       "    </tr>\n",
       "    <tr>\n",
       "      <th>previously_insured</th>\n",
       "      <td>0.000</td>\n",
       "      <td>1.000</td>\n",
       "      <td>1.000</td>\n",
       "      <td>0.458</td>\n",
       "      <td>0.000</td>\n",
       "      <td>0.498</td>\n",
       "      <td>0.168</td>\n",
       "      <td>-1.972</td>\n",
       "    </tr>\n",
       "    <tr>\n",
       "      <th>annual_premium</th>\n",
       "      <td>2630.000</td>\n",
       "      <td>540165.000</td>\n",
       "      <td>537535.000</td>\n",
       "      <td>30564.390</td>\n",
       "      <td>31669.000</td>\n",
       "      <td>17213.132</td>\n",
       "      <td>1.766</td>\n",
       "      <td>34.005</td>\n",
       "    </tr>\n",
       "    <tr>\n",
       "      <th>vintage</th>\n",
       "      <td>10.000</td>\n",
       "      <td>299.000</td>\n",
       "      <td>289.000</td>\n",
       "      <td>154.347</td>\n",
       "      <td>154.000</td>\n",
       "      <td>83.671</td>\n",
       "      <td>0.003</td>\n",
       "      <td>-1.201</td>\n",
       "    </tr>\n",
       "    <tr>\n",
       "      <th>response</th>\n",
       "      <td>0.000</td>\n",
       "      <td>1.000</td>\n",
       "      <td>1.000</td>\n",
       "      <td>0.123</td>\n",
       "      <td>0.000</td>\n",
       "      <td>0.328</td>\n",
       "      <td>2.302</td>\n",
       "      <td>3.299</td>\n",
       "    </tr>\n",
       "    <tr>\n",
       "      <th>driving_license</th>\n",
       "      <td>0.000</td>\n",
       "      <td>1.000</td>\n",
       "      <td>1.000</td>\n",
       "      <td>0.998</td>\n",
       "      <td>1.000</td>\n",
       "      <td>0.046</td>\n",
       "      <td>-21.595</td>\n",
       "      <td>464.354</td>\n",
       "    </tr>\n",
       "  </tbody>\n",
       "</table>\n",
       "</div>"
      ],
      "text/plain": [
       "                          min        max      range       mean     median  \\\n",
       "id                      1.000 381109.000 381108.000 190555.000 190555.000   \n",
       "age                    20.000     85.000     65.000     38.823     36.000   \n",
       "region_code             0.000     52.000     52.000     26.389     28.000   \n",
       "policy_sales_channel    1.000    163.000    162.000    112.034    133.000   \n",
       "previously_insured      0.000      1.000      1.000      0.458      0.000   \n",
       "annual_premium       2630.000 540165.000 537535.000  30564.390  31669.000   \n",
       "vintage                10.000    299.000    289.000    154.347    154.000   \n",
       "response                0.000      1.000      1.000      0.123      0.000   \n",
       "driving_license         0.000      1.000      1.000      0.998      1.000   \n",
       "\n",
       "                            std  skewness  kurtosis  \n",
       "id                   110016.692    -0.000    -1.200  \n",
       "age                      15.512     0.673    -0.566  \n",
       "region_code              13.230    -0.115    -0.868  \n",
       "policy_sales_channel     54.204    -0.900    -0.971  \n",
       "previously_insured        0.498     0.168    -1.972  \n",
       "annual_premium        17213.132     1.766    34.005  \n",
       "vintage                  83.671     0.003    -1.201  \n",
       "response                  0.328     2.302     3.299  \n",
       "driving_license           0.046   -21.595   464.354  "
      ]
     },
     "execution_count": 52,
     "metadata": {},
     "output_type": "execute_result"
    }
   ],
   "source": [
    "pd.set_option('display.float_format', lambda x: '%.3f' % x)\n",
    "\n",
    "# central tendency - mean, median\n",
    "ct1 = pd.DataFrame( df_num.apply( lambda x: np.mean( x ) ) ).T\n",
    "ct2 = pd.DataFrame( df_num.apply( lambda x: np.median( x ) ) ).T\n",
    "\n",
    "# dispersion metrics - min, max, range, std, skewness, kurtosis\n",
    "dm1 = pd.DataFrame( df_num.apply( lambda x: np.min( x ) ) ).T\n",
    "dm2 = pd.DataFrame( df_num.apply( lambda x: np.max( x ) ) ).T\n",
    "dm3 = pd.DataFrame( df_num.apply( lambda x: np.max( x ) - np.min( x ) ) ).T\n",
    "dm4 = pd.DataFrame( df_num.apply( lambda x: np.std( x ) ) ).T\n",
    "dm5 = pd.DataFrame( df_num.apply( lambda x: x.skew() ) ).T\n",
    "dm6 = pd.DataFrame( df_num.apply( lambda x: x.kurtosis() ) ).T\n",
    "\n",
    "# concat\n",
    "df_description = pd.concat( [ dm1, dm2, dm3, ct1, ct2, dm4, dm5, dm6 ] ).T\n",
    "df_description.columns = ( 'min', 'max', 'range', 'mean', 'median', 'std', 'skewness', 'kurtosis' )\n",
    "df_description"
   ]
  },
  {
   "cell_type": "markdown",
   "id": "29a6dbb3",
   "metadata": {},
   "source": [
    "# 2.0. FEATURE ENGINEERING"
   ]
  }
 ],
 "metadata": {
  "kernelspec": {
   "display_name": "Python 3 (ipykernel)",
   "language": "python",
   "name": "python3"
  },
  "language_info": {
   "codemirror_mode": {
    "name": "ipython",
    "version": 3
   },
   "file_extension": ".py",
   "mimetype": "text/x-python",
   "name": "python",
   "nbconvert_exporter": "python",
   "pygments_lexer": "ipython3",
   "version": "3.8.12"
  }
 },
 "nbformat": 4,
 "nbformat_minor": 5
}
